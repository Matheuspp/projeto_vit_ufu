{
 "cells": [
  {
   "cell_type": "markdown",
   "id": "cf2da7f6",
   "metadata": {},
   "source": [
    "## Imports"
   ]
  },
  {
   "cell_type": "code",
   "execution_count": 1,
   "id": "4684caec",
   "metadata": {},
   "outputs": [],
   "source": [
    "import random\n",
    "import time\n",
    "import torch\n",
    "import torchvision\n",
    "import torchvision.transforms as transforms\n",
    "import torch.nn as nn\n",
    "import torch.optim as optim\n",
    "from torch.utils.data import DataLoader, SubsetRandomSampler\n",
    "import numpy as np\n",
    "  "
   ]
  },
  {
   "cell_type": "code",
   "execution_count": 2,
   "id": "c9dd1827",
   "metadata": {},
   "outputs": [],
   "source": [
    "# Set random seed for PyTorch\n",
    "torch.manual_seed(42)\n",
    "\n",
    "# Set random seed for NumPy\n",
    "np.random.seed(42)\n",
    "\n",
    "# Set random seed for Python's random module\n",
    "random.seed(42)"
   ]
  },
  {
   "cell_type": "code",
   "execution_count": 3,
   "id": "00694b10",
   "metadata": {},
   "outputs": [],
   "source": [
    "batch_size = 512\n",
    "dataset_dir = 'flowers-data'\n",
    "\n",
    "# Set the device\n",
    "device = torch.device(\"cuda\" if torch.cuda.is_available() else \"cpu\")\n",
    "\n",
    "# Normalize the input data using ImageNet statistics\n",
    "imagenet_mean = [0.485, 0.456, 0.406]\n",
    "imagenet_std = [0.229, 0.224, 0.225]"
   ]
  },
  {
   "cell_type": "code",
   "execution_count": 4,
   "id": "cbe48441",
   "metadata": {},
   "outputs": [],
   "source": [
    "transform = transforms.Compose([\n",
    "    transforms.Resize((224, 224)),\n",
    "    transforms.CenterCrop(224),\n",
    "    transforms.ToTensor(),\n",
    "    transforms.Normalize(imagenet_mean, imagenet_std)\n",
    "])\n",
    "\n",
    "# Load the datasets\n",
    "train_dataset = torchvision.datasets.ImageFolder(\n",
    "    root=f'{dataset_dir}/train',\n",
    "    transform=transform\n",
    ")\n",
    "val_dataset = torchvision.datasets.ImageFolder(\n",
    "    root=f'{dataset_dir}/val',\n",
    "    transform=transform\n",
    ")\n",
    "test_dataset = torchvision.datasets.ImageFolder(\n",
    "    root=f'{dataset_dir}/test',\n",
    "    transform=transform\n",
    ")\n",
    "\n",
    "# Create data loaders\n",
    "test_loader = DataLoader(test_dataset, batch_size=batch_size, shuffle=False)\n",
    "train_loader = torch.utils.data.DataLoader(train_dataset, shuffle=True, batch_size=batch_size)\n",
    "val_loader = torch.utils.data.DataLoader(val_dataset, shuffle=True, batch_size=batch_size)"
   ]
  },
  {
   "cell_type": "code",
   "execution_count": 5,
   "id": "c0461be6",
   "metadata": {},
   "outputs": [
    {
     "data": {
      "text/plain": [
       "1020"
      ]
     },
     "execution_count": 5,
     "metadata": {},
     "output_type": "execute_result"
    }
   ],
   "source": [
    "len(val_loader.dataset.samples)"
   ]
  },
  {
   "cell_type": "code",
   "execution_count": 6,
   "id": "231e201c",
   "metadata": {},
   "outputs": [
    {
     "name": "stderr",
     "output_type": "stream",
     "text": [
      "/home/matthew/.local/lib/python3.8/site-packages/torchvision/models/_utils.py:208: UserWarning: The parameter 'pretrained' is deprecated since 0.13 and may be removed in the future, please use 'weights' instead.\n",
      "  warnings.warn(\n",
      "/home/matthew/.local/lib/python3.8/site-packages/torchvision/models/_utils.py:223: UserWarning: Arguments other than a weight enum or `None` for 'weights' are deprecated since 0.13 and may be removed in the future. The current behavior is equivalent to passing `weights=ResNet18_Weights.IMAGENET1K_V1`. You can also use `weights=ResNet18_Weights.DEFAULT` to get the most up-to-date weights.\n",
      "  warnings.warn(msg)\n"
     ]
    },
    {
     "name": "stdout",
     "output_type": "stream",
     "text": [
      "ResNet(\n",
      "  (conv1): Conv2d(3, 64, kernel_size=(7, 7), stride=(2, 2), padding=(3, 3), bias=False)\n",
      "  (bn1): BatchNorm2d(64, eps=1e-05, momentum=0.1, affine=True, track_running_stats=True)\n",
      "  (relu): ReLU(inplace=True)\n",
      "  (maxpool): MaxPool2d(kernel_size=3, stride=2, padding=1, dilation=1, ceil_mode=False)\n",
      "  (layer1): Sequential(\n",
      "    (0): BasicBlock(\n",
      "      (conv1): Conv2d(64, 64, kernel_size=(3, 3), stride=(1, 1), padding=(1, 1), bias=False)\n",
      "      (bn1): BatchNorm2d(64, eps=1e-05, momentum=0.1, affine=True, track_running_stats=True)\n",
      "      (relu): ReLU(inplace=True)\n",
      "      (conv2): Conv2d(64, 64, kernel_size=(3, 3), stride=(1, 1), padding=(1, 1), bias=False)\n",
      "      (bn2): BatchNorm2d(64, eps=1e-05, momentum=0.1, affine=True, track_running_stats=True)\n",
      "    )\n",
      "    (1): BasicBlock(\n",
      "      (conv1): Conv2d(64, 64, kernel_size=(3, 3), stride=(1, 1), padding=(1, 1), bias=False)\n",
      "      (bn1): BatchNorm2d(64, eps=1e-05, momentum=0.1, affine=True, track_running_stats=True)\n",
      "      (relu): ReLU(inplace=True)\n",
      "      (conv2): Conv2d(64, 64, kernel_size=(3, 3), stride=(1, 1), padding=(1, 1), bias=False)\n",
      "      (bn2): BatchNorm2d(64, eps=1e-05, momentum=0.1, affine=True, track_running_stats=True)\n",
      "    )\n",
      "  )\n",
      "  (layer2): Sequential(\n",
      "    (0): BasicBlock(\n",
      "      (conv1): Conv2d(64, 128, kernel_size=(3, 3), stride=(2, 2), padding=(1, 1), bias=False)\n",
      "      (bn1): BatchNorm2d(128, eps=1e-05, momentum=0.1, affine=True, track_running_stats=True)\n",
      "      (relu): ReLU(inplace=True)\n",
      "      (conv2): Conv2d(128, 128, kernel_size=(3, 3), stride=(1, 1), padding=(1, 1), bias=False)\n",
      "      (bn2): BatchNorm2d(128, eps=1e-05, momentum=0.1, affine=True, track_running_stats=True)\n",
      "      (downsample): Sequential(\n",
      "        (0): Conv2d(64, 128, kernel_size=(1, 1), stride=(2, 2), bias=False)\n",
      "        (1): BatchNorm2d(128, eps=1e-05, momentum=0.1, affine=True, track_running_stats=True)\n",
      "      )\n",
      "    )\n",
      "    (1): BasicBlock(\n",
      "      (conv1): Conv2d(128, 128, kernel_size=(3, 3), stride=(1, 1), padding=(1, 1), bias=False)\n",
      "      (bn1): BatchNorm2d(128, eps=1e-05, momentum=0.1, affine=True, track_running_stats=True)\n",
      "      (relu): ReLU(inplace=True)\n",
      "      (conv2): Conv2d(128, 128, kernel_size=(3, 3), stride=(1, 1), padding=(1, 1), bias=False)\n",
      "      (bn2): BatchNorm2d(128, eps=1e-05, momentum=0.1, affine=True, track_running_stats=True)\n",
      "    )\n",
      "  )\n",
      "  (layer3): Sequential(\n",
      "    (0): BasicBlock(\n",
      "      (conv1): Conv2d(128, 256, kernel_size=(3, 3), stride=(2, 2), padding=(1, 1), bias=False)\n",
      "      (bn1): BatchNorm2d(256, eps=1e-05, momentum=0.1, affine=True, track_running_stats=True)\n",
      "      (relu): ReLU(inplace=True)\n",
      "      (conv2): Conv2d(256, 256, kernel_size=(3, 3), stride=(1, 1), padding=(1, 1), bias=False)\n",
      "      (bn2): BatchNorm2d(256, eps=1e-05, momentum=0.1, affine=True, track_running_stats=True)\n",
      "      (downsample): Sequential(\n",
      "        (0): Conv2d(128, 256, kernel_size=(1, 1), stride=(2, 2), bias=False)\n",
      "        (1): BatchNorm2d(256, eps=1e-05, momentum=0.1, affine=True, track_running_stats=True)\n",
      "      )\n",
      "    )\n",
      "    (1): BasicBlock(\n",
      "      (conv1): Conv2d(256, 256, kernel_size=(3, 3), stride=(1, 1), padding=(1, 1), bias=False)\n",
      "      (bn1): BatchNorm2d(256, eps=1e-05, momentum=0.1, affine=True, track_running_stats=True)\n",
      "      (relu): ReLU(inplace=True)\n",
      "      (conv2): Conv2d(256, 256, kernel_size=(3, 3), stride=(1, 1), padding=(1, 1), bias=False)\n",
      "      (bn2): BatchNorm2d(256, eps=1e-05, momentum=0.1, affine=True, track_running_stats=True)\n",
      "    )\n",
      "  )\n",
      "  (layer4): Sequential(\n",
      "    (0): BasicBlock(\n",
      "      (conv1): Conv2d(256, 512, kernel_size=(3, 3), stride=(2, 2), padding=(1, 1), bias=False)\n",
      "      (bn1): BatchNorm2d(512, eps=1e-05, momentum=0.1, affine=True, track_running_stats=True)\n",
      "      (relu): ReLU(inplace=True)\n",
      "      (conv2): Conv2d(512, 512, kernel_size=(3, 3), stride=(1, 1), padding=(1, 1), bias=False)\n",
      "      (bn2): BatchNorm2d(512, eps=1e-05, momentum=0.1, affine=True, track_running_stats=True)\n",
      "      (downsample): Sequential(\n",
      "        (0): Conv2d(256, 512, kernel_size=(1, 1), stride=(2, 2), bias=False)\n",
      "        (1): BatchNorm2d(512, eps=1e-05, momentum=0.1, affine=True, track_running_stats=True)\n",
      "      )\n",
      "    )\n",
      "    (1): BasicBlock(\n",
      "      (conv1): Conv2d(512, 512, kernel_size=(3, 3), stride=(1, 1), padding=(1, 1), bias=False)\n",
      "      (bn1): BatchNorm2d(512, eps=1e-05, momentum=0.1, affine=True, track_running_stats=True)\n",
      "      (relu): ReLU(inplace=True)\n",
      "      (conv2): Conv2d(512, 512, kernel_size=(3, 3), stride=(1, 1), padding=(1, 1), bias=False)\n",
      "      (bn2): BatchNorm2d(512, eps=1e-05, momentum=0.1, affine=True, track_running_stats=True)\n",
      "    )\n",
      "  )\n",
      "  (avgpool): AdaptiveAvgPool2d(output_size=(1, 1))\n",
      "  (fc): Linear(in_features=512, out_features=9, bias=True)\n",
      ")\n"
     ]
    }
   ],
   "source": [
    "# Initialize the ResNet-18 model\n",
    "model = torchvision.models.resnet18(pretrained=True)\n",
    "\n",
    "# Freeze the parameters of all layers\n",
    "for param in model.parameters():\n",
    "    param.requires_grad = False\n",
    "    \n",
    "num_classes = len(train_dataset.classes)\n",
    "model.fc = nn.Linear(model.fc.in_features, num_classes)\n",
    "model.to(device)\n",
    "\n",
    "print(model)"
   ]
  },
  {
   "cell_type": "code",
   "execution_count": 7,
   "id": "ba7ea6bd",
   "metadata": {},
   "outputs": [],
   "source": [
    "# Define loss function and optimizer\n",
    "criterion = nn.CrossEntropyLoss()\n",
    "optimizer = optim.Adam(model.parameters(), lr=0.001)"
   ]
  },
  {
   "cell_type": "code",
   "execution_count": 8,
   "id": "cecfd0e6",
   "metadata": {},
   "outputs": [
    {
     "name": "stdout",
     "output_type": "stream",
     "text": [
      "training... epoch 0\n",
      "saving model at epoch 0\n",
      "Epoch 1 loss 1.999 val_loss 1.618  train acc: 0.272 val acc: 0.561\n",
      "training... epoch 1\n",
      "saving model at epoch 1\n",
      "Epoch 2 loss 1.421 val_loss 1.164  train acc: 0.635 val acc: 0.721\n",
      "training... epoch 2\n",
      "saving model at epoch 2\n",
      "Epoch 3 loss 1.059 val_loss 0.908  train acc: 0.749 val acc: 0.807\n",
      "training... epoch 3\n",
      "saving model at epoch 3\n",
      "Epoch 4 loss 0.841 val_loss 0.757  train acc: 0.810 val acc: 0.818\n",
      "training... epoch 4\n",
      "saving model at epoch 4\n",
      "Epoch 5 loss 0.713 val_loss 0.661  train acc: 0.830 val acc: 0.833\n",
      "training... epoch 5\n",
      "saving model at epoch 5\n",
      "Epoch 6 loss 0.628 val_loss 0.598  train acc: 0.846 val acc: 0.854\n",
      "training... epoch 6\n",
      "saving model at epoch 6\n",
      "Epoch 7 loss 0.571 val_loss 0.554  train acc: 0.861 val acc: 0.864\n",
      "training... epoch 7\n",
      "saving model at epoch 7\n",
      "Epoch 8 loss 0.530 val_loss 0.519  train acc: 0.867 val acc: 0.868\n",
      "training... epoch 8\n",
      "saving model at epoch 8\n",
      "Epoch 9 loss 0.493 val_loss 0.494  train acc: 0.877 val acc: 0.870\n",
      "training... epoch 9\n",
      "saving model at epoch 9\n",
      "Epoch 10 loss 0.464 val_loss 0.470  train acc: 0.880 val acc: 0.876\n",
      "training... epoch 10\n",
      "saving model at epoch 10\n",
      "Epoch 11 loss 0.442 val_loss 0.452  train acc: 0.885 val acc: 0.880\n",
      "training... epoch 11\n",
      "saving model at epoch 11\n",
      "Epoch 12 loss 0.420 val_loss 0.437  train acc: 0.889 val acc: 0.875\n",
      "training... epoch 12\n",
      "saving model at epoch 12\n",
      "Epoch 13 loss 0.403 val_loss 0.424  train acc: 0.893 val acc: 0.880\n",
      "training... epoch 13\n",
      "saving model at epoch 13\n",
      "Epoch 14 loss 0.389 val_loss 0.414  train acc: 0.900 val acc: 0.876\n",
      "training... epoch 14\n",
      "saving model at epoch 14\n",
      "Epoch 15 loss 0.378 val_loss 0.406  train acc: 0.896 val acc: 0.885\n",
      "training... epoch 15\n",
      "saving model at epoch 15\n",
      "Epoch 16 loss 0.366 val_loss 0.399  train acc: 0.898 val acc: 0.876\n",
      "training... epoch 16\n",
      "saving model at epoch 16\n",
      "Epoch 17 loss 0.356 val_loss 0.391  train acc: 0.902 val acc: 0.886\n",
      "training... epoch 17\n",
      "saving model at epoch 17\n",
      "Epoch 18 loss 0.342 val_loss 0.379  train acc: 0.908 val acc: 0.884\n",
      "training... epoch 18\n",
      "saving model at epoch 18\n",
      "Epoch 19 loss 0.332 val_loss 0.372  train acc: 0.911 val acc: 0.887\n",
      "training... epoch 19\n",
      "saving model at epoch 19\n",
      "Epoch 20 loss 0.324 val_loss 0.367  train acc: 0.911 val acc: 0.886\n",
      "Training finished!\n",
      "Total time: 480.4145748615265\n"
     ]
    }
   ],
   "source": [
    "# Training loop\n",
    "num_epochs = 20\n",
    "min_loss = np.inf\n",
    "tic = time.time()\n",
    "val_losses = []\n",
    "train_losses = []\n",
    "val_accs = []\n",
    "train_accs = []\n",
    "\n",
    "for epoch in range(num_epochs):\n",
    "    print(f'training... epoch {epoch}')\n",
    "    running_loss = 0.0\n",
    "    running_corr = 0.0\n",
    "    val_loss = 0.0\n",
    "    val_corr = 0.0\n",
    "    model.train()\n",
    "    for i, (inputs, labels) in enumerate(train_loader):\n",
    "        inputs = inputs.to(device)\n",
    "        labels = labels.to(device)\n",
    "\n",
    "        optimizer.zero_grad()\n",
    "\n",
    "        outputs = model(inputs)\n",
    "        _, preds = torch.max(outputs, 1)\n",
    "        loss = criterion(outputs, labels)\n",
    "        loss.backward()\n",
    "        optimizer.step()\n",
    "\n",
    "        running_loss += loss.item() * inputs.size(0)\n",
    "        running_corr += torch.sum(preds == labels.data)\n",
    "    model.eval()   \n",
    "    with torch.no_grad():\n",
    "        for inputs, labels in val_loader:\n",
    "            inputs = inputs.to(device)\n",
    "            labels = labels.to(device)\n",
    "\n",
    "            outputs = model(inputs)\n",
    "            _, preds = torch.max(outputs, 1)\n",
    "            vloss = criterion(outputs, labels)\n",
    "            val_loss += vloss.item() * inputs.size(0)\n",
    "            val_corr += torch.sum(preds == labels.data)\n",
    "            \n",
    "    running_loss = running_loss/len(train_loader.dataset.samples)\n",
    "    train_acc = running_corr.double() / len(train_loader.dataset.samples)\n",
    "    \n",
    "    val_loss = val_loss/len(val_loader.dataset.samples)\n",
    "    val_acc = val_corr.double() / len(val_loader.dataset.samples)\n",
    "    \n",
    "    val_losses.append(val_loss)\n",
    "    val_accs.append(val_acc.item())\n",
    "    train_losses.append(running_loss)\n",
    "    train_accs.append(train_acc.item())\n",
    "    \n",
    "    if val_loss < min_loss:\n",
    "        min_loss = val_loss\n",
    "        torch.save(model, 'resnet_model.pth')\n",
    "        print(f'saving model at epoch {epoch}')\n",
    "        print(f'Epoch {epoch + 1} loss {running_loss:.3f} val_loss {val_loss:.3f}  train acc: {train_acc:.3f} val acc: {val_acc:.3f}')\n",
    "toc = time.time()            \n",
    "\n",
    "print('Training finished!')\n",
    "print(f'Total time: {abs(toc-tic)}')\n"
   ]
  },
  {
   "cell_type": "code",
   "execution_count": 9,
   "id": "df0a2273",
   "metadata": {},
   "outputs": [
    {
     "name": "stdout",
     "output_type": "stream",
     "text": [
      "Test Accuracy: 87.66%\n"
     ]
    }
   ],
   "source": [
    "# Evaluation on the test set\n",
    "model.eval()  # Switch to evaluation mode\n",
    "correct = 0\n",
    "total = 0\n",
    "with torch.no_grad():\n",
    "    for inputs, labels in test_loader:\n",
    "        inputs = inputs.to(device)\n",
    "        labels = labels.to(device)\n",
    "\n",
    "        outputs = model(inputs)\n",
    "        _, predicted = torch.max(outputs.data, 1)\n",
    "        total += labels.size(0)\n",
    "        correct += (predicted == labels).sum().item()\n",
    "\n",
    "accuracy = 100 * correct / total\n",
    "print(f'Test Accuracy: {accuracy:.2f}%')\n"
   ]
  },
  {
   "cell_type": "code",
   "execution_count": 10,
   "id": "333835c4",
   "metadata": {},
   "outputs": [
    {
     "data": {
      "image/png": "[encoded data removed]",
      "text/plain": [
       "<Figure size 640x480 with 1 Axes>"
      ]
     },
     "metadata": {},
     "output_type": "display_data"
    }
   ],
   "source": [
    "import matplotlib.pyplot as plt\n",
    "\n",
    "# Example losses data\n",
    "epoch = np.arange(len(train_losses))\n",
    "\n",
    "# Plot losses\n",
    "plt.plot(epoch, train_losses, label='Train Loss')\n",
    "plt.plot(epoch, val_losses, label='Validation Loss')\n",
    "\n",
    "\n",
    "# Set labels and title\n",
    "plt.xlabel('Epoch')\n",
    "plt.ylabel('Loss')\n",
    "plt.title('Training and Validation Loss')\n",
    "\n",
    "# Add legend\n",
    "plt.legend()\n",
    "\n",
    "# Display the plot\n",
    "plt.show()\n"
   ]
  },
  {
   "cell_type": "code",
   "execution_count": 11,
   "id": "c720a79f",
   "metadata": {},
   "outputs": [
    {
     "data": {
      "image/png": "[encoded data removed]",
      "text/plain": [
       "<Figure size 640x480 with 1 Axes>"
      ]
     },
     "metadata": {},
     "output_type": "display_data"
    }
   ],
   "source": [
    "# Example losses data\n",
    "epoch = np.arange(len(train_accs))\n",
    "\n",
    "# Plot accs\n",
    "plt.plot(epoch, train_accs, label='Train accuracy')\n",
    "plt.plot(epoch, val_accs, label='Validation accuracy')\n",
    "\n",
    "# Set labels and title\n",
    "plt.xlabel('Epoch')\n",
    "plt.ylabel('Accuracy')\n",
    "plt.title('Training and Validation accuracy')\n",
    "\n",
    "# Add legend\n",
    "plt.legend()\n",
    "\n",
    "# Display the plot\n",
    "plt.show()\n"
   ]
  },
  {
   "cell_type": "code",
   "execution_count": null,
   "id": "0d41c8a1",
   "metadata": {},
   "outputs": [],
   "source": []
  },
  {
   "cell_type": "code",
   "execution_count": null,
   "id": "4417a2cf",
   "metadata": {},
   "outputs": [],
   "source": []
  }
 ],
 "metadata": {
  "kernelspec": {
   "display_name": "Python 3 (ipykernel)",
   "language": "python",
   "name": "python3"
  },
  "language_info": {
   "codemirror_mode": {
    "name": "ipython",
    "version": 3
   },
   "file_extension": ".py",
   "mimetype": "text/x-python",
   "name": "python",
   "nbconvert_exporter": "python",
   "pygments_lexer": "ipython3",
   "version": "3.8.10"
  }
 },
 "nbformat": 4,
 "nbformat_minor": 5
}
